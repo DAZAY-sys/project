{
 "cells": [
  {
   "cell_type": "markdown",
   "metadata": {},
   "source": [
    "# Анализ веб документов"
   ]
  },
  {
   "cell_type": "code",
   "execution_count": 1,
   "metadata": {},
   "outputs": [],
   "source": [
    "import pandas as pd\n",
    "import numpy as np\n",
    "from sklearn.feature_extraction.text import TfidfVectorizer\n",
    "from copy import copy\n",
    "from sklearn import svm\n",
    "from sklearn.metrics import f1_score\n",
    "from sklearn.model_selection import KFold\n",
    "from collections import defaultdict\n",
    "from scipy.spatial import distance\n",
    "from sklearn.metrics import pairwise_distances\n",
    "from sklearn.ensemble import RandomForestClassifier\n",
    "from sklearn.linear_model import LogisticRegression, LinearRegression\n",
    "from sklearn.ensemble import GradientBoostingClassifier\n",
    "from sklearn.model_selection import GridSearchCV\n",
    "from sklearn.cluster import DBSCAN\n",
    "from bs4 import BeautifulSoup as bs\n",
    "import nltk\n",
    "from nltk.corpus import stopwords\n",
    "from pymystem3 import Mystem\n",
    "from string import punctuation\n",
    "from nltk.stem.snowball import SnowballStemmer\n",
    "import pandas as pd\n",
    "import numpy as np\n",
    "import re\n",
    "import multiprocessing\n",
    "import codecs"
   ]
  },
  {
   "cell_type": "markdown",
   "metadata": {},
   "source": [
    "### Обработка текста\n",
    "Выполняется удаление пунктуации и неподходящих символов, лемматизация, приведение к нижнему регистру и удаление стоп-слов.\n",
    "Код использовался для составления таблиц."
   ]
  },
  {
   "cell_type": "code",
   "execution_count": 2,
   "metadata": {},
   "outputs": [],
   "source": [
    "mystem = Mystem() \n",
    "russian_stopwords = stopwords.words(\"russian\")\n",
    "stop_tokens = []\n",
    "\n",
    "def is_word(token):\n",
    "    legal_chars = '0123456789abcdefghijklmnopqrstuvwxyzабвгдеёжзийклмнопрстуфхцчшщъыьэюя'\n",
    "    for c in legal_chars:\n",
    "        if c in token:\n",
    "            return True\n",
    "    stop_tokens.append(token)\n",
    "    return False\n",
    "\n",
    "def preprocess_text(text):\n",
    "    text = str(text)\n",
    "    tokens = mystem.lemmatize(text.lower())\n",
    "    tokens = [token for token in tokens if token not in russian_stopwords\\\n",
    "              and token != \" \" \\\n",
    "              and token.strip() not in punctuation\n",
    "              and is_word(token)]\n",
    "    \n",
    "    text = \" \".join(tokens)\n",
    "    \n",
    "    return text\n",
    "\n",
    "doc_to_title = {}\n",
    "with codecs.open('docs_titles.tsv', 'r', 'utf-8') as f:\n",
    "    for num_line, line in enumerate(f):\n",
    "        if num_line == 0:\n",
    "            continue\n",
    "        data = line.strip().split('\\t', 1)\n",
    "        doc_id = int(data[0])\n",
    "        if len(data) == 1:\n",
    "            title = ''\n",
    "        else:\n",
    "            title = data[1]\n",
    "        doc_to_title[doc_id] = title\n",
    "\n",
    "def add_title_to_df_and_save_as_csv(file_name):\n",
    "    df = pd.read_csv(file_name)\n",
    "    df['title'] = pd.Series(dtype='object')\n",
    "    for i, row in df.iterrows():\n",
    "        df['title'][i] = doc_to_title[row['doc_id']]\n",
    "    df['title'] = df['title'].map(preprocess_text)\n",
    "    df.to_csv(f'{file_name}_train_preprocessed.csv', index=False)\n",
    "    return df"
   ]
  },
  {
   "cell_type": "code",
   "execution_count": 3,
   "metadata": {},
   "outputs": [],
   "source": [
    "lem_titles = pd.read_csv('docs_titles.tsv', sep='\\t', encoding='utf-8', lineterminator='\\n')\n",
    "train_groups = pd.read_csv(\"train_groups.csv\")\n",
    "test_groups = pd.read_csv(\"test_groups.csv\")"
   ]
  },
  {
   "cell_type": "code",
   "execution_count": 4,
   "metadata": {},
   "outputs": [
    {
     "data": {
      "text/html": [
       "<div>\n",
       "<style scoped>\n",
       "    .dataframe tbody tr th:only-of-type {\n",
       "        vertical-align: middle;\n",
       "    }\n",
       "\n",
       "    .dataframe tbody tr th {\n",
       "        vertical-align: top;\n",
       "    }\n",
       "\n",
       "    .dataframe thead th {\n",
       "        text-align: right;\n",
       "    }\n",
       "</style>\n",
       "<table border=\"1\" class=\"dataframe\">\n",
       "  <thead>\n",
       "    <tr style=\"text-align: right;\">\n",
       "      <th></th>\n",
       "      <th>doc_id</th>\n",
       "      <th>title</th>\n",
       "    </tr>\n",
       "  </thead>\n",
       "  <tbody>\n",
       "    <tr>\n",
       "      <th>0</th>\n",
       "      <td>15731</td>\n",
       "      <td>ВАЗ 21213 | Замена подшипников ступицы | Нива</td>\n",
       "    </tr>\n",
       "    <tr>\n",
       "      <th>1</th>\n",
       "      <td>14829</td>\n",
       "      <td>Ваз 2107 оптом в Сочи. Сравнить цены, купить п...</td>\n",
       "    </tr>\n",
       "    <tr>\n",
       "      <th>2</th>\n",
       "      <td>15764</td>\n",
       "      <td>Купить ступица Лада калина2. Трансмиссия - пер...</td>\n",
       "    </tr>\n",
       "    <tr>\n",
       "      <th>3</th>\n",
       "      <td>17669</td>\n",
       "      <td>Классика 21010 - 21074</td>\n",
       "    </tr>\n",
       "    <tr>\n",
       "      <th>4</th>\n",
       "      <td>14852</td>\n",
       "      <td>Ступица Нива — замена подшипника своими руками</td>\n",
       "    </tr>\n",
       "    <tr>\n",
       "      <th>...</th>\n",
       "      <td>...</td>\n",
       "      <td>...</td>\n",
       "    </tr>\n",
       "    <tr>\n",
       "      <th>27945</th>\n",
       "      <td>16637</td>\n",
       "      <td>Ответы@Mail.Ru: полезно ли кушать творог по ут...</td>\n",
       "    </tr>\n",
       "    <tr>\n",
       "      <th>27946</th>\n",
       "      <td>16759</td>\n",
       "      <td>Творог. Полезные свойства и лечение творогом. ...</td>\n",
       "    </tr>\n",
       "    <tr>\n",
       "      <th>27947</th>\n",
       "      <td>15358</td>\n",
       "      <td>Творог - Полезные и опасные свойства творога</td>\n",
       "    </tr>\n",
       "    <tr>\n",
       "      <th>27948</th>\n",
       "      <td>17287</td>\n",
       "      <td>Ответы@Mail.Ru: Чем полезен творог?</td>\n",
       "    </tr>\n",
       "    <tr>\n",
       "      <th>27949</th>\n",
       "      <td>16026</td>\n",
       "      <td>Творог: польза и вред :: Как выбирать продукты...</td>\n",
       "    </tr>\n",
       "  </tbody>\n",
       "</table>\n",
       "<p>27950 rows × 2 columns</p>\n",
       "</div>"
      ],
      "text/plain": [
       "       doc_id                                              title\n",
       "0       15731      ВАЗ 21213 | Замена подшипников ступицы | Нива\n",
       "1       14829  Ваз 2107 оптом в Сочи. Сравнить цены, купить п...\n",
       "2       15764  Купить ступица Лада калина2. Трансмиссия - пер...\n",
       "3       17669                             Классика 21010 - 21074\n",
       "4       14852     Ступица Нива — замена подшипника своими руками\n",
       "...       ...                                                ...\n",
       "27945   16637  Ответы@Mail.Ru: полезно ли кушать творог по ут...\n",
       "27946   16759  Творог. Полезные свойства и лечение творогом. ...\n",
       "27947   15358       Творог - Полезные и опасные свойства творога\n",
       "27948   17287                Ответы@Mail.Ru: Чем полезен творог?\n",
       "27949   16026  Творог: польза и вред :: Как выбирать продукты...\n",
       "\n",
       "[27950 rows x 2 columns]"
      ]
     },
     "execution_count": 4,
     "metadata": {},
     "output_type": "execute_result"
    }
   ],
   "source": [
    "lem_titles"
   ]
  },
  {
   "cell_type": "code",
   "execution_count": 5,
   "metadata": {
    "scrolled": true
   },
   "outputs": [
    {
     "data": {
      "text/html": [
       "<div>\n",
       "<style scoped>\n",
       "    .dataframe tbody tr th:only-of-type {\n",
       "        vertical-align: middle;\n",
       "    }\n",
       "\n",
       "    .dataframe tbody tr th {\n",
       "        vertical-align: top;\n",
       "    }\n",
       "\n",
       "    .dataframe thead th {\n",
       "        text-align: right;\n",
       "    }\n",
       "</style>\n",
       "<table border=\"1\" class=\"dataframe\">\n",
       "  <thead>\n",
       "    <tr style=\"text-align: right;\">\n",
       "      <th></th>\n",
       "      <th>pair_id</th>\n",
       "      <th>group_id</th>\n",
       "      <th>doc_id</th>\n",
       "      <th>target</th>\n",
       "    </tr>\n",
       "  </thead>\n",
       "  <tbody>\n",
       "    <tr>\n",
       "      <th>0</th>\n",
       "      <td>1</td>\n",
       "      <td>1</td>\n",
       "      <td>15731</td>\n",
       "      <td>0</td>\n",
       "    </tr>\n",
       "    <tr>\n",
       "      <th>1</th>\n",
       "      <td>2</td>\n",
       "      <td>1</td>\n",
       "      <td>14829</td>\n",
       "      <td>0</td>\n",
       "    </tr>\n",
       "    <tr>\n",
       "      <th>2</th>\n",
       "      <td>3</td>\n",
       "      <td>1</td>\n",
       "      <td>15764</td>\n",
       "      <td>0</td>\n",
       "    </tr>\n",
       "    <tr>\n",
       "      <th>3</th>\n",
       "      <td>4</td>\n",
       "      <td>1</td>\n",
       "      <td>17669</td>\n",
       "      <td>0</td>\n",
       "    </tr>\n",
       "    <tr>\n",
       "      <th>4</th>\n",
       "      <td>5</td>\n",
       "      <td>1</td>\n",
       "      <td>14852</td>\n",
       "      <td>0</td>\n",
       "    </tr>\n",
       "    <tr>\n",
       "      <th>...</th>\n",
       "      <td>...</td>\n",
       "      <td>...</td>\n",
       "      <td>...</td>\n",
       "      <td>...</td>\n",
       "    </tr>\n",
       "    <tr>\n",
       "      <th>11685</th>\n",
       "      <td>11686</td>\n",
       "      <td>129</td>\n",
       "      <td>26672</td>\n",
       "      <td>0</td>\n",
       "    </tr>\n",
       "    <tr>\n",
       "      <th>11686</th>\n",
       "      <td>11687</td>\n",
       "      <td>129</td>\n",
       "      <td>25838</td>\n",
       "      <td>0</td>\n",
       "    </tr>\n",
       "    <tr>\n",
       "      <th>11687</th>\n",
       "      <td>11688</td>\n",
       "      <td>129</td>\n",
       "      <td>25703</td>\n",
       "      <td>0</td>\n",
       "    </tr>\n",
       "    <tr>\n",
       "      <th>11688</th>\n",
       "      <td>11689</td>\n",
       "      <td>129</td>\n",
       "      <td>27885</td>\n",
       "      <td>0</td>\n",
       "    </tr>\n",
       "    <tr>\n",
       "      <th>11689</th>\n",
       "      <td>11690</td>\n",
       "      <td>129</td>\n",
       "      <td>27987</td>\n",
       "      <td>0</td>\n",
       "    </tr>\n",
       "  </tbody>\n",
       "</table>\n",
       "<p>11690 rows × 4 columns</p>\n",
       "</div>"
      ],
      "text/plain": [
       "       pair_id  group_id  doc_id  target\n",
       "0            1         1   15731       0\n",
       "1            2         1   14829       0\n",
       "2            3         1   15764       0\n",
       "3            4         1   17669       0\n",
       "4            5         1   14852       0\n",
       "...        ...       ...     ...     ...\n",
       "11685    11686       129   26672       0\n",
       "11686    11687       129   25838       0\n",
       "11687    11688       129   25703       0\n",
       "11688    11689       129   27885       0\n",
       "11689    11690       129   27987       0\n",
       "\n",
       "[11690 rows x 4 columns]"
      ]
     },
     "execution_count": 5,
     "metadata": {},
     "output_type": "execute_result"
    }
   ],
   "source": [
    "train_groups"
   ]
  },
  {
   "cell_type": "code",
   "execution_count": 6,
   "metadata": {},
   "outputs": [
    {
     "data": {
      "text/html": [
       "<div>\n",
       "<style scoped>\n",
       "    .dataframe tbody tr th:only-of-type {\n",
       "        vertical-align: middle;\n",
       "    }\n",
       "\n",
       "    .dataframe tbody tr th {\n",
       "        vertical-align: top;\n",
       "    }\n",
       "\n",
       "    .dataframe thead th {\n",
       "        text-align: right;\n",
       "    }\n",
       "</style>\n",
       "<table border=\"1\" class=\"dataframe\">\n",
       "  <thead>\n",
       "    <tr style=\"text-align: right;\">\n",
       "      <th></th>\n",
       "      <th>pair_id</th>\n",
       "      <th>group_id</th>\n",
       "      <th>doc_id</th>\n",
       "      <th>target</th>\n",
       "      <th>title</th>\n",
       "      <th>url</th>\n",
       "      <th>img_count</th>\n",
       "      <th>link_count</th>\n",
       "    </tr>\n",
       "  </thead>\n",
       "  <tbody>\n",
       "    <tr>\n",
       "      <th>0</th>\n",
       "      <td>1</td>\n",
       "      <td>1</td>\n",
       "      <td>15731</td>\n",
       "      <td>0</td>\n",
       "      <td>ваз 21213 замена подшипник ступица нива</td>\n",
       "      <td>automn  vaz 21213 vaz 34656 10  4460</td>\n",
       "      <td>31.0</td>\n",
       "      <td>30.0</td>\n",
       "    </tr>\n",
       "    <tr>\n",
       "      <th>1</th>\n",
       "      <td>2</td>\n",
       "      <td>1</td>\n",
       "      <td>14829</td>\n",
       "      <td>0</td>\n",
       "      <td>ваз 2107 опт сочи сравнивать цена купить потре...</td>\n",
       "      <td>sochi   vaz 2107 wholesale</td>\n",
       "      <td>55.0</td>\n",
       "      <td>261.0</td>\n",
       "    </tr>\n",
       "    <tr>\n",
       "      <th>2</th>\n",
       "      <td>3</td>\n",
       "      <td>1</td>\n",
       "      <td>15764</td>\n",
       "      <td>0</td>\n",
       "      <td>купить ступица лад калина2 трансмиссия переход...</td>\n",
       "      <td>baza   sell spare parts</td>\n",
       "      <td>43.0</td>\n",
       "      <td>136.0</td>\n",
       "    </tr>\n",
       "    <tr>\n",
       "      <th>3</th>\n",
       "      <td>4</td>\n",
       "      <td>1</td>\n",
       "      <td>17669</td>\n",
       "      <td>0</td>\n",
       "      <td>классика 21010 21074</td>\n",
       "      <td>carobka  21010</td>\n",
       "      <td>4.0</td>\n",
       "      <td>15.0</td>\n",
       "    </tr>\n",
       "    <tr>\n",
       "      <th>4</th>\n",
       "      <td>5</td>\n",
       "      <td>1</td>\n",
       "      <td>14852</td>\n",
       "      <td>0</td>\n",
       "      <td>ступица нива замена подшипник свой рука</td>\n",
       "      <td>cartore  2730 stupica niva</td>\n",
       "      <td>10.0</td>\n",
       "      <td>65.0</td>\n",
       "    </tr>\n",
       "  </tbody>\n",
       "</table>\n",
       "</div>"
      ],
      "text/plain": [
       "   pair_id  group_id  doc_id  target  \\\n",
       "0        1         1   15731       0   \n",
       "1        2         1   14829       0   \n",
       "2        3         1   15764       0   \n",
       "3        4         1   17669       0   \n",
       "4        5         1   14852       0   \n",
       "\n",
       "                                               title  \\\n",
       "0            ваз 21213 замена подшипник ступица нива   \n",
       "1  ваз 2107 опт сочи сравнивать цена купить потре...   \n",
       "2  купить ступица лад калина2 трансмиссия переход...   \n",
       "3                               классика 21010 21074   \n",
       "4            ступица нива замена подшипник свой рука   \n",
       "\n",
       "                                     url  img_count  link_count  \n",
       "0  automn  vaz 21213 vaz 34656 10  4460        31.0        30.0  \n",
       "1            sochi   vaz 2107 wholesale        55.0       261.0  \n",
       "2             baza   sell spare parts          43.0       136.0  \n",
       "3                        carobka  21010         4.0        15.0  \n",
       "4            cartore  2730 stupica niva        10.0        65.0  "
      ]
     },
     "execution_count": 6,
     "metadata": {},
     "output_type": "execute_result"
    }
   ],
   "source": [
    "pre_train_groups = pd.read_csv(\"new_new_pre_train_groups.tsv\", sep='\\t', encoding = 'utf-8')\n",
    "pre_test_groups = pd.read_csv(\"new_new_pre_test_groups.tsv\", sep='\\t', encoding = 'utf-8')\n",
    "pre_train_groups.head()"
   ]
  },
  {
   "cell_type": "markdown",
   "metadata": {},
   "source": [
    "### Обработка пустых полей\n",
    "Как было замечено, пустые поля появляются только в заголовках документах, поэтому только там и будем исправлять."
   ]
  },
  {
   "cell_type": "code",
   "execution_count": 7,
   "metadata": {},
   "outputs": [
    {
     "name": "stdout",
     "output_type": "stream",
     "text": [
      "18 23\n"
     ]
    }
   ],
   "source": [
    "print(pre_train_groups[\"title\"].isna().sum(),\n",
    "    pre_test_groups[\"title\"].isna().sum())"
   ]
  },
  {
   "cell_type": "code",
   "execution_count": 8,
   "metadata": {},
   "outputs": [
    {
     "name": "stdout",
     "output_type": "stream",
     "text": [
      "0 0\n"
     ]
    }
   ],
   "source": [
    "pre_train_groups.fillna(\"\", inplace = True)\n",
    "pre_test_groups.fillna(\"\", inplace = True)\n",
    "\n",
    "print(pre_train_groups[\"title\"].isna().sum(), \n",
    "      pre_test_groups[\"title\"].isna().sum())"
   ]
  },
  {
   "cell_type": "code",
   "execution_count": 9,
   "metadata": {},
   "outputs": [
    {
     "data": {
      "text/html": [
       "<div>\n",
       "<style scoped>\n",
       "    .dataframe tbody tr th:only-of-type {\n",
       "        vertical-align: middle;\n",
       "    }\n",
       "\n",
       "    .dataframe tbody tr th {\n",
       "        vertical-align: top;\n",
       "    }\n",
       "\n",
       "    .dataframe thead th {\n",
       "        text-align: right;\n",
       "    }\n",
       "</style>\n",
       "<table border=\"1\" class=\"dataframe\">\n",
       "  <thead>\n",
       "    <tr style=\"text-align: right;\">\n",
       "      <th></th>\n",
       "      <th>pair_id</th>\n",
       "      <th>group_id</th>\n",
       "      <th>doc_id</th>\n",
       "      <th>target</th>\n",
       "      <th>title</th>\n",
       "      <th>url</th>\n",
       "      <th>img_count</th>\n",
       "      <th>link_count</th>\n",
       "    </tr>\n",
       "  </thead>\n",
       "  <tbody>\n",
       "    <tr>\n",
       "      <th>0</th>\n",
       "      <td>1</td>\n",
       "      <td>1</td>\n",
       "      <td>15731</td>\n",
       "      <td>0</td>\n",
       "      <td>ваз 21213 замена подшипник ступица нива</td>\n",
       "      <td>automn  vaz 21213 vaz 34656 10  4460</td>\n",
       "      <td>31.0</td>\n",
       "      <td>30.0</td>\n",
       "    </tr>\n",
       "    <tr>\n",
       "      <th>1</th>\n",
       "      <td>2</td>\n",
       "      <td>1</td>\n",
       "      <td>14829</td>\n",
       "      <td>0</td>\n",
       "      <td>ваз 2107 опт сочи сравнивать цена купить потре...</td>\n",
       "      <td>sochi   vaz 2107 wholesale</td>\n",
       "      <td>55.0</td>\n",
       "      <td>261.0</td>\n",
       "    </tr>\n",
       "    <tr>\n",
       "      <th>2</th>\n",
       "      <td>3</td>\n",
       "      <td>1</td>\n",
       "      <td>15764</td>\n",
       "      <td>0</td>\n",
       "      <td>купить ступица лад калина2 трансмиссия переход...</td>\n",
       "      <td>baza   sell spare parts</td>\n",
       "      <td>43.0</td>\n",
       "      <td>136.0</td>\n",
       "    </tr>\n",
       "    <tr>\n",
       "      <th>3</th>\n",
       "      <td>4</td>\n",
       "      <td>1</td>\n",
       "      <td>17669</td>\n",
       "      <td>0</td>\n",
       "      <td>классика 21010 21074</td>\n",
       "      <td>carobka  21010</td>\n",
       "      <td>4.0</td>\n",
       "      <td>15.0</td>\n",
       "    </tr>\n",
       "    <tr>\n",
       "      <th>4</th>\n",
       "      <td>5</td>\n",
       "      <td>1</td>\n",
       "      <td>14852</td>\n",
       "      <td>0</td>\n",
       "      <td>ступица нива замена подшипник свой рука</td>\n",
       "      <td>cartore  2730 stupica niva</td>\n",
       "      <td>10.0</td>\n",
       "      <td>65.0</td>\n",
       "    </tr>\n",
       "  </tbody>\n",
       "</table>\n",
       "</div>"
      ],
      "text/plain": [
       "   pair_id  group_id  doc_id  target  \\\n",
       "0        1         1   15731       0   \n",
       "1        2         1   14829       0   \n",
       "2        3         1   15764       0   \n",
       "3        4         1   17669       0   \n",
       "4        5         1   14852       0   \n",
       "\n",
       "                                               title  \\\n",
       "0            ваз 21213 замена подшипник ступица нива   \n",
       "1  ваз 2107 опт сочи сравнивать цена купить потре...   \n",
       "2  купить ступица лад калина2 трансмиссия переход...   \n",
       "3                               классика 21010 21074   \n",
       "4            ступица нива замена подшипник свой рука   \n",
       "\n",
       "                                     url  img_count  link_count  \n",
       "0  automn  vaz 21213 vaz 34656 10  4460        31.0        30.0  \n",
       "1            sochi   vaz 2107 wholesale        55.0       261.0  \n",
       "2             baza   sell spare parts          43.0       136.0  \n",
       "3                        carobka  21010         4.0        15.0  \n",
       "4            cartore  2730 stupica niva        10.0        65.0  "
      ]
     },
     "execution_count": 9,
     "metadata": {},
     "output_type": "execute_result"
    }
   ],
   "source": [
    "pre_train_groups.head()"
   ]
  },
  {
   "cell_type": "code",
   "execution_count": 10,
   "metadata": {},
   "outputs": [
    {
     "data": {
      "text/html": [
       "<div>\n",
       "<style scoped>\n",
       "    .dataframe tbody tr th:only-of-type {\n",
       "        vertical-align: middle;\n",
       "    }\n",
       "\n",
       "    .dataframe tbody tr th {\n",
       "        vertical-align: top;\n",
       "    }\n",
       "\n",
       "    .dataframe thead th {\n",
       "        text-align: right;\n",
       "    }\n",
       "</style>\n",
       "<table border=\"1\" class=\"dataframe\">\n",
       "  <thead>\n",
       "    <tr style=\"text-align: right;\">\n",
       "      <th></th>\n",
       "      <th>pair_id</th>\n",
       "      <th>group_id</th>\n",
       "      <th>doc_id</th>\n",
       "      <th>title</th>\n",
       "      <th>url</th>\n",
       "      <th>img_count</th>\n",
       "      <th>link_count</th>\n",
       "    </tr>\n",
       "  </thead>\n",
       "  <tbody>\n",
       "    <tr>\n",
       "      <th>0</th>\n",
       "      <td>11691</td>\n",
       "      <td>130</td>\n",
       "      <td>6710</td>\n",
       "      <td>прописывать админка кс 1.6 друг youtube</td>\n",
       "      <td>youtube  watch</td>\n",
       "      <td>23.0</td>\n",
       "      <td>11.0</td>\n",
       "    </tr>\n",
       "    <tr>\n",
       "      <th>1</th>\n",
       "      <td>11692</td>\n",
       "      <td>130</td>\n",
       "      <td>4030</td>\n",
       "      <td>скачать sgl rp доработка слива мода mysql rp r...</td>\n",
       "      <td>v sampe  load 1 role play sgl rp dorabotka mys...</td>\n",
       "      <td>150.0</td>\n",
       "      <td>42.0</td>\n",
       "    </tr>\n",
       "    <tr>\n",
       "      <th>2</th>\n",
       "      <td>11693</td>\n",
       "      <td>130</td>\n",
       "      <td>5561</td>\n",
       "      <td>прописывать админка кс 1.6 counter strike ката...</td>\n",
       "      <td>dream x  publ kak propisat adminku v ks 1 6 1 ...</td>\n",
       "      <td>82.0</td>\n",
       "      <td>79.0</td>\n",
       "    </tr>\n",
       "    <tr>\n",
       "      <th>3</th>\n",
       "      <td>11694</td>\n",
       "      <td>130</td>\n",
       "      <td>4055</td>\n",
       "      <td>прописывать простой админка кс 1 6</td>\n",
       "      <td>kak propisat prostuyu adminku v ks 1 6</td>\n",
       "      <td>14.0</td>\n",
       "      <td>39.0</td>\n",
       "    </tr>\n",
       "    <tr>\n",
       "      <th>4</th>\n",
       "      <td>11695</td>\n",
       "      <td>130</td>\n",
       "      <td>4247</td>\n",
       "      <td>подбор админ сервер код 4 архив форум ozone</td>\n",
       "      <td>o3one  forum archive index  t 47527</td>\n",
       "      <td>0.0</td>\n",
       "      <td>6.0</td>\n",
       "    </tr>\n",
       "  </tbody>\n",
       "</table>\n",
       "</div>"
      ],
      "text/plain": [
       "   pair_id  group_id  doc_id  \\\n",
       "0    11691       130    6710   \n",
       "1    11692       130    4030   \n",
       "2    11693       130    5561   \n",
       "3    11694       130    4055   \n",
       "4    11695       130    4247   \n",
       "\n",
       "                                               title  \\\n",
       "0            прописывать админка кс 1.6 друг youtube   \n",
       "1  скачать sgl rp доработка слива мода mysql rp r...   \n",
       "2  прописывать админка кс 1.6 counter strike ката...   \n",
       "3                 прописывать простой админка кс 1 6   \n",
       "4        подбор админ сервер код 4 архив форум ozone   \n",
       "\n",
       "                                                 url  img_count  link_count  \n",
       "0                                     youtube  watch       23.0        11.0  \n",
       "1  v sampe  load 1 role play sgl rp dorabotka mys...      150.0        42.0  \n",
       "2  dream x  publ kak propisat adminku v ks 1 6 1 ...       82.0        79.0  \n",
       "3          kak propisat prostuyu adminku v ks 1 6          14.0        39.0  \n",
       "4               o3one  forum archive index  t 47527         0.0         6.0  "
      ]
     },
     "execution_count": 10,
     "metadata": {},
     "output_type": "execute_result"
    }
   ],
   "source": [
    "pre_test_groups.head()"
   ]
  },
  {
   "cell_type": "markdown",
   "metadata": {},
   "source": [
    "### TFIDF \n",
    "Для урлов и для заголовков обучим по векторайзеру."
   ]
  },
  {
   "cell_type": "code",
   "execution_count": 11,
   "metadata": {},
   "outputs": [
    {
     "data": {
      "text/plain": [
       "((28317, 27248), (28317, 45507))"
      ]
     },
     "execution_count": 11,
     "metadata": {},
     "output_type": "execute_result"
    }
   ],
   "source": [
    "title_data_train = pre_train_groups[\"title\"].tolist()\n",
    "title_data_test = pre_test_groups[\"title\"].tolist()\n",
    "\n",
    "tfidf_title = TfidfVectorizer(ngram_range = (1, 1))\n",
    "tf_title_data = tfidf_title.fit_transform(title_data_train + title_data_test)\n",
    "\n",
    "url_data_train = pre_train_groups[\"url\"].tolist()\n",
    "url_data_test = pre_test_groups[\"url\"].tolist()\n",
    "\n",
    "tfidf_url = TfidfVectorizer(ngram_range = (1, 1))\n",
    "tf_url_data = tfidf_url.fit_transform(url_data_train + url_data_test)\n",
    "\n",
    "tf_title_data.shape, tf_url_data.shape"
   ]
  },
  {
   "cell_type": "code",
   "execution_count": 12,
   "metadata": {},
   "outputs": [
    {
     "data": {
      "text/plain": [
       "((16627, 7), (11690, 8))"
      ]
     },
     "execution_count": 12,
     "metadata": {},
     "output_type": "execute_result"
    }
   ],
   "source": [
    "pre_test_groups.shape, pre_train_groups.shape"
   ]
  },
  {
   "cell_type": "code",
   "execution_count": 13,
   "metadata": {},
   "outputs": [],
   "source": [
    "group_id_train = train_groups[\"group_id\"].to_numpy()\n",
    "y_train = train_groups[\"target\"].to_numpy()\n",
    "\n",
    "group_id_test = test_groups[\"group_id\"].to_numpy()"
   ]
  },
  {
   "cell_type": "code",
   "execution_count": 14,
   "metadata": {},
   "outputs": [],
   "source": [
    "groups_pair_ids = defaultdict(list)"
   ]
  },
  {
   "cell_type": "code",
   "execution_count": 15,
   "metadata": {},
   "outputs": [],
   "source": [
    "for pair_id, group_id in zip(train_groups[\"pair_id\"], train_groups[\"group_id\"]):\n",
    "    groups_pair_ids[group_id].append(pair_id)\n",
    "for pair_id, group_id in zip(test_groups[\"pair_id\"], test_groups[\"group_id\"]):\n",
    "    groups_pair_ids[group_id].append(pair_id)"
   ]
  },
  {
   "cell_type": "code",
   "execution_count": 16,
   "metadata": {},
   "outputs": [],
   "source": [
    "X_new = []\n",
    "amount = 25\n",
    "\n",
    "for group_id, values in groups_pair_ids.items():\n",
    "    indexes = np.array(values) - 1\n",
    "    d = pairwise_distances(tf_title_data[indexes], metric=\"cosine\")\n",
    "    d_url = pairwise_distances(tf_url_data[indexes], metric=\"cosine\") \n",
    "        \n",
    "    dn = np.array(d)\n",
    "    dn = np.sort(dn, axis=1)[:, 1:amount]\n",
    "    \n",
    "    dn_url = np.array(d_url)\n",
    "    dn_url = np.sort(dn_url, axis=1)[:, 1:amount]\n",
    "    \n",
    "    mean = np.mean(dn)\n",
    "    mean_url = np.mean(dn_url)\n",
    "    \n",
    "    if (indexes[0] >= pre_train_groups.shape[0]):\n",
    "        doc_img_part = pre_test_groups.img_count[indexes - pre_train_groups.shape[0]].to_numpy()\n",
    "        doc_link_part = pre_test_groups.link_count[indexes - pre_train_groups.shape[0]].to_numpy()\n",
    "    else:\n",
    "        doc_img_part = pre_train_groups.img_count[indexes].to_numpy()\n",
    "        doc_link_part = pre_train_groups.link_count[indexes].to_numpy()\n",
    "            \n",
    "    for v_id, i in enumerate(d):\n",
    "        sorted_arr = sorted(i)[1:amount]\n",
    "        sorted_arr_url = sorted(d_url[v_id])[1:amount]\n",
    "        stats = np.array([mean])\n",
    "        stats_url = np.array([mean_url])\n",
    "\n",
    "        all_img_dist = []\n",
    "        all_link_dist = []\n",
    "        image = doc_img_part[v_id]\n",
    "        link = doc_link_part[v_id]\n",
    "        for j in range(len(doc_img_part)):\n",
    "            if v_id == j:\n",
    "                continue\n",
    "                \n",
    "            img_j = doc_img_part[j]\n",
    "            link_j = doc_link_part[j]\n",
    "            \n",
    "            if (img_j + image == 0):\n",
    "                all_img_dist.append(0)\n",
    "            else:\n",
    "                all_img_dist.append(abs(img_j - image) / (img_j + image))\n",
    "                \n",
    "            if (link_j + link == 0):\n",
    "                all_link_dist.append(0)\n",
    "            else:\n",
    "                all_link_dist.append(abs(link_j - link) / (link_j + link))\n",
    "                \n",
    "            \n",
    "        sorted_img_count = sorted(all_img_dist, reverse=True)[0:amount]\n",
    "        sorted_link_count = sorted(all_link_dist, reverse=True)[0:amount]\n",
    "        \n",
    "        sorted_arr = np.concatenate([sorted_arr, stats, sorted_arr_url, stats_url, sorted_img_count, sorted_link_count])\n",
    "        X_new.append(sorted_arr)\n",
    "\n",
    "X_new = np.array(X_new)"
   ]
  },
  {
   "cell_type": "code",
   "execution_count": 17,
   "metadata": {},
   "outputs": [
    {
     "data": {
      "text/plain": [
       "(28317, 100)"
      ]
     },
     "execution_count": 17,
     "metadata": {},
     "output_type": "execute_result"
    }
   ],
   "source": [
    "X_new.shape"
   ]
  },
  {
   "cell_type": "code",
   "execution_count": 18,
   "metadata": {},
   "outputs": [],
   "source": [
    "X_train = X_new[:len(title_data_train)]\n",
    "X_test = X_new[len(title_data_train):]"
   ]
  },
  {
   "cell_type": "code",
   "execution_count": 19,
   "metadata": {},
   "outputs": [
    {
     "data": {
      "text/plain": [
       "((16627, 100), (11690, 100))"
      ]
     },
     "execution_count": 19,
     "metadata": {},
     "output_type": "execute_result"
    }
   ],
   "source": [
    "X_test.shape, X_train.shape"
   ]
  },
  {
   "cell_type": "markdown",
   "metadata": {},
   "source": [
    "### Подберем параметры GB"
   ]
  },
  {
   "cell_type": "code",
   "execution_count": 20,
   "metadata": {},
   "outputs": [
    {
     "data": {
      "text/plain": [
       "GridSearchCV(cv=KFold(n_splits=5, random_state=None, shuffle=False),\n",
       "             estimator=GradientBoostingClassifier(),\n",
       "             param_grid={'learning_rate': [0.01, 0.05, 0.1, 0.5, 1]})"
      ]
     },
     "execution_count": 20,
     "metadata": {},
     "output_type": "execute_result"
    }
   ],
   "source": [
    "clf = GradientBoostingClassifier()\n",
    "parameters = {'learning_rate':[0.01, 0.05, 0.1, 0.5, 1]}\n",
    "cv_test = KFold(n_splits = 5)\n",
    "clf = GridSearchCV(GradientBoostingClassifier(), parameters, cv = cv_test)\n",
    "clf.fit(X_train, y_train)"
   ]
  },
  {
   "cell_type": "code",
   "execution_count": 21,
   "metadata": {},
   "outputs": [
    {
     "data": {
      "text/plain": [
       "0.1"
      ]
     },
     "execution_count": 21,
     "metadata": {},
     "output_type": "execute_result"
    }
   ],
   "source": [
    "best_rate = clf.best_params_['learning_rate']\n",
    "best_rate"
   ]
  },
  {
   "cell_type": "code",
   "execution_count": 22,
   "metadata": {},
   "outputs": [
    {
     "data": {
      "text/plain": [
       "GridSearchCV(cv=KFold(n_splits=5, random_state=None, shuffle=False),\n",
       "             estimator=GradientBoostingClassifier(),\n",
       "             param_grid={'max_depth': [2, 3, 5, 10]})"
      ]
     },
     "execution_count": 22,
     "metadata": {},
     "output_type": "execute_result"
    }
   ],
   "source": [
    "clf = GradientBoostingClassifier()\n",
    "parameters = {'max_depth': [2, 3, 5, 10]}\n",
    "cv_test = KFold(n_splits = 5)\n",
    "clf = GridSearchCV(GradientBoostingClassifier(), parameters, cv=cv_test)\n",
    "clf.fit(X_train, y_train)"
   ]
  },
  {
   "cell_type": "code",
   "execution_count": 23,
   "metadata": {},
   "outputs": [
    {
     "data": {
      "text/plain": [
       "3"
      ]
     },
     "execution_count": 23,
     "metadata": {},
     "output_type": "execute_result"
    }
   ],
   "source": [
    "best_max_depth = clf.best_params_['max_depth']\n",
    "best_max_depth"
   ]
  },
  {
   "cell_type": "code",
   "execution_count": 24,
   "metadata": {},
   "outputs": [
    {
     "data": {
      "text/plain": [
       "GridSearchCV(cv=KFold(n_splits=5, random_state=None, shuffle=False),\n",
       "             estimator=GradientBoostingClassifier(),\n",
       "             param_grid={'min_samples_split': [2, 5, 10, 20]})"
      ]
     },
     "execution_count": 24,
     "metadata": {},
     "output_type": "execute_result"
    }
   ],
   "source": [
    "clf = GradientBoostingClassifier()\n",
    "parameters = {'min_samples_split':[2, 5, 10, 20]}\n",
    "cv_test = KFold(n_splits = 5)\n",
    "clf = GridSearchCV(GradientBoostingClassifier(), parameters, cv = cv_test)\n",
    "clf.fit(X_train, y_train)"
   ]
  },
  {
   "cell_type": "code",
   "execution_count": 25,
   "metadata": {},
   "outputs": [
    {
     "data": {
      "text/plain": [
       "2"
      ]
     },
     "execution_count": 25,
     "metadata": {},
     "output_type": "execute_result"
    }
   ],
   "source": [
    "best_min_samples = clf.best_params_['min_samples_split']\n",
    "best_min_samples"
   ]
  },
  {
   "cell_type": "code",
   "execution_count": 26,
   "metadata": {},
   "outputs": [
    {
     "data": {
      "text/plain": [
       "(2, 3, 0.1)"
      ]
     },
     "execution_count": 26,
     "metadata": {},
     "output_type": "execute_result"
    }
   ],
   "source": [
    "best_min_samples,best_max_depth, best_rate"
   ]
  },
  {
   "cell_type": "markdown",
   "metadata": {},
   "source": [
    "### Обучаем GB"
   ]
  },
  {
   "cell_type": "code",
   "execution_count": 27,
   "metadata": {},
   "outputs": [
    {
     "data": {
      "text/plain": [
       "[0.7653429602888087,\n",
       " 0.7658703071672356,\n",
       " 0.7512388503468781,\n",
       " 0.6683333333333333,\n",
       " 0.7884362680683312]"
      ]
     },
     "execution_count": 27,
     "metadata": {},
     "output_type": "execute_result"
    }
   ],
   "source": [
    "tmp = []\n",
    "clf = GradientBoostingClassifier(min_samples_split = best_min_samples, max_depth = best_max_depth, \n",
    "                                 learning_rate = best_rate)\n",
    "# (min_samples_split = 10, max_depth = 3, learning_rate = 0.05)\n",
    "for train_index, test_index in KFold(5).split(X_train, y_train):\n",
    "    clf.fit(X_train[train_index], y_train[train_index])\n",
    "    tmp.append(f1_score(y_train[test_index], clf.predict(X_train[test_index])))\n",
    "tmp"
   ]
  },
  {
   "cell_type": "code",
   "execution_count": 28,
   "metadata": {},
   "outputs": [
    {
     "data": {
      "text/plain": [
       "0.7478443438409175"
      ]
     },
     "execution_count": 28,
     "metadata": {},
     "output_type": "execute_result"
    }
   ],
   "source": [
    "np.mean(tmp)"
   ]
  },
  {
   "cell_type": "code",
   "execution_count": 29,
   "metadata": {},
   "outputs": [
    {
     "data": {
      "text/plain": [
       "(11690, 100)"
      ]
     },
     "execution_count": 29,
     "metadata": {},
     "output_type": "execute_result"
    }
   ],
   "source": [
    "X_train.shape"
   ]
  },
  {
   "cell_type": "code",
   "execution_count": 30,
   "metadata": {},
   "outputs": [],
   "source": [
    "clf.fit(X_train, y_train)\n",
    "result = clf.predict(X_test)"
   ]
  },
  {
   "cell_type": "code",
   "execution_count": 31,
   "metadata": {},
   "outputs": [],
   "source": [
    "df = pd.DataFrame({\"pair_id\": [i for i in test_groups[\"pair_id\"]], \"target\": result})"
   ]
  },
  {
   "cell_type": "code",
   "execution_count": 32,
   "metadata": {},
   "outputs": [],
   "source": [
    "df.to_csv(\"with_img_link_answer.csv\", index = False)"
   ]
  },
  {
   "cell_type": "markdown",
   "metadata": {},
   "source": [
    "XGBOOST\n"
   ]
  },
  {
   "cell_type": "code",
   "execution_count": 28,
   "metadata": {},
   "outputs": [],
   "source": [
    "from xgboost import XGBClassifier"
   ]
  },
  {
   "cell_type": "code",
   "execution_count": 30,
   "metadata": {},
   "outputs": [
    {
     "name": "stdout",
     "output_type": "stream",
     "text": [
      "Fitting 5 folds for each of 96 candidates, totalling 480 fits\n"
     ]
    },
    {
     "name": "stderr",
     "output_type": "stream",
     "text": [
      "[Parallel(n_jobs=4)]: Using backend LokyBackend with 4 concurrent workers.\n",
      "[Parallel(n_jobs=4)]: Done  42 tasks      | elapsed:  1.2min\n",
      "[Parallel(n_jobs=4)]: Done 192 tasks      | elapsed: 10.5min\n",
      "[Parallel(n_jobs=4)]: Done 442 tasks      | elapsed: 25.7min\n",
      "[Parallel(n_jobs=4)]: Done 480 out of 480 | elapsed: 29.4min finished\n"
     ]
    },
    {
     "data": {
      "text/plain": [
       "GridSearchCV(cv=KFold(n_splits=5, random_state=None, shuffle=False),\n",
       "             estimator=XGBClassifier(base_score=None, booster=None,\n",
       "                                     colsample_bylevel=None,\n",
       "                                     colsample_bynode=None,\n",
       "                                     colsample_bytree=None, gamma=None,\n",
       "                                     gpu_id=None, importance_type='gain',\n",
       "                                     interaction_constraints=None,\n",
       "                                     learning_rate=None, max_delta_step=None,\n",
       "                                     max_depth=None, min_child_weight=None,\n",
       "                                     missing=nan, m...\n",
       "                                     n_estimators=100, n_jobs=None, nthread=4,\n",
       "                                     num_parallel_tree=None, random_state=None,\n",
       "                                     reg_alpha=None, reg_lambda=None,\n",
       "                                     scale_pos_weight=None, seed=42,\n",
       "                                     subsample=None, tree_method=None,\n",
       "                                     validate_parameters=None, verbosity=None),\n",
       "             n_jobs=4,\n",
       "             param_grid={'learning_rate': [0.1, 0.01, 0.05],\n",
       "                         'max_depth': range(2, 10),\n",
       "                         'n_estimators': range(60, 220, 40)},\n",
       "             scoring='roc_auc', verbose=True)"
      ]
     },
     "execution_count": 30,
     "metadata": {},
     "output_type": "execute_result"
    }
   ],
   "source": [
    "estimator = XGBClassifier(\n",
    "    objective= 'binary:logistic',\n",
    "    nthread=4,\n",
    "    seed=42\n",
    ")\n",
    "\n",
    "parameters = {\n",
    "    'max_depth': range (2, 10, 1),\n",
    "    'n_estimators': range(60, 220, 40),\n",
    "    'learning_rate': [0.1, 0.01, 0.05]\n",
    "}\n",
    "\n",
    "cv_test = KFold(n_splits = 5)\n",
    "grid_search = GridSearchCV(\n",
    "    estimator=estimator,\n",
    "    param_grid=parameters,\n",
    "    scoring = 'roc_auc',\n",
    "    n_jobs = 4,\n",
    "    cv = cv_test,\n",
    "    verbose=True\n",
    ")\n",
    "\n",
    "grid_search.fit(X_train, y_train)"
   ]
  },
  {
   "cell_type": "code",
   "execution_count": 31,
   "metadata": {},
   "outputs": [
    {
     "data": {
      "text/plain": [
       "XGBClassifier(base_score=0.5, booster='gbtree', colsample_bylevel=1,\n",
       "              colsample_bynode=1, colsample_bytree=1, gamma=0, gpu_id=-1,\n",
       "              importance_type='gain', interaction_constraints='',\n",
       "              learning_rate=0.1, max_delta_step=0, max_depth=3,\n",
       "              min_child_weight=1, missing=nan, monotone_constraints='()',\n",
       "              n_estimators=100, n_jobs=4, nthread=4, num_parallel_tree=1,\n",
       "              random_state=42, reg_alpha=0, reg_lambda=1, scale_pos_weight=1,\n",
       "              seed=42, subsample=1, tree_method='exact', validate_parameters=1,\n",
       "              verbosity=None)"
      ]
     },
     "execution_count": 31,
     "metadata": {},
     "output_type": "execute_result"
    }
   ],
   "source": [
    "grid_search.best_estimator_"
   ]
  },
  {
   "cell_type": "code",
   "execution_count": 32,
   "metadata": {},
   "outputs": [
    {
     "data": {
      "text/plain": [
       "[0.7509349289454003,\n",
       " 0.759753593429158,\n",
       " 0.7138755980861244,\n",
       " 0.6599496221662469,\n",
       " 0.79155672823219]"
      ]
     },
     "execution_count": 32,
     "metadata": {},
     "output_type": "execute_result"
    }
   ],
   "source": [
    "tmp = []\n",
    "for train_index, test_index in KFold(5).split(X_train, y_train):\n",
    "    grid_search.best_estimator_.fit(X_train[train_index], y_train[train_index])\n",
    "    tmp.append(f1_score(y_train[test_index], grid_search.best_estimator_.predict(X_train[test_index])))\n",
    "tmp"
   ]
  },
  {
   "cell_type": "code",
   "execution_count": 33,
   "metadata": {},
   "outputs": [
    {
     "data": {
      "text/plain": [
       "0.7352140941718239"
      ]
     },
     "execution_count": 33,
     "metadata": {},
     "output_type": "execute_result"
    }
   ],
   "source": [
    "np.mean(tmp)"
   ]
  },
  {
   "cell_type": "code",
   "execution_count": 34,
   "metadata": {},
   "outputs": [],
   "source": [
    "grid_search.best_estimator_.fit(X_train, y_train)\n",
    "result = grid_search.best_estimator_.predict(X_test)"
   ]
  },
  {
   "cell_type": "code",
   "execution_count": 35,
   "metadata": {},
   "outputs": [],
   "source": [
    "df = pd.DataFrame({\"pair_id\": [i for i in test_groups[\"pair_id\"]], \"target\": result})"
   ]
  },
  {
   "cell_type": "code",
   "execution_count": 36,
   "metadata": {},
   "outputs": [],
   "source": [
    "df.to_csv(\"xgboost_answer.csv\", index = False)"
   ]
  },
  {
   "cell_type": "markdown",
   "metadata": {},
   "source": [
    " "
   ]
  },
  {
   "cell_type": "markdown",
   "metadata": {},
   "source": [
    " "
   ]
  },
  {
   "cell_type": "markdown",
   "metadata": {},
   "source": [
    "\n",
    "\n",
    "\n",
    "\n",
    "\n",
    "\n",
    "# Парсинг сайта, создание файлов с url, image_count, link_count\n",
    "Запускать не советуется :) Каждая ячейка выполняется около часа."
   ]
  },
  {
   "cell_type": "code",
   "execution_count": null,
   "metadata": {},
   "outputs": [],
   "source": [
    "%%time\n",
    "\n",
    "# Делаем собственный парсинг, с учетом url\n",
    "\n",
    "path = 'content/'\n",
    "count = 28026\n",
    "\n",
    "title_url_data = pd.DataFrame(index = list(range(count)), columns = ['doc_id', 'title', 'url'])\n",
    "title_url_data.loc[0] = 1\n",
    "\n",
    "counters = list(range(1, count + 1))\n",
    "file_name = [path + '{}.dat'.format(i) for i in counters]\n",
    "\n",
    "for i in tqdm(counters): \n",
    "    with codecs.open(file_name[i - 1], 'r', 'utf-8') as f:\n",
    "        url = f.readline().strip()\n",
    "        url_new = re.split(r'\\?|%.*', url)\n",
    "        url_new = re.sub(\"\\.\\w*\", \" \", url_new[0]) \n",
    "\n",
    "        title = BeautifulSoup(f, 'lxml').title.text\n",
    "        title = re.sub(\"\\n*|\\t*|\\r*\", \"\", title) \n",
    "        \n",
    "        title_url_data.loc[i - 1] = [i, title, url_new]\n",
    "title_url_data"
   ]
  },
  {
   "cell_type": "code",
   "execution_count": null,
   "metadata": {},
   "outputs": [],
   "source": [
    "%%time\n",
    "\n",
    "# Делаем собственный парсинг, с учетом images, links\n",
    "path = 'content/'\n",
    "count = 28026\n",
    "\n",
    "image_link_data = pd.DataFrame(index = list(range(count)), columns = ['doc_id', 'image_count', 'link_count'])\n",
    "image_link_data.loc[0] = 1\n",
    "\n",
    "counters = list(range(1, count + 1))\n",
    "file_name = [path + '{}.dat'.format(i) for i in counters]\n",
    "\n",
    "for i in counters: \n",
    "    with codecs.open(file_name[i - 1], 'r', 'utf-8') as f:\n",
    "        soup = BeautifulSoup(f, 'lxml')\n",
    "        \n",
    "        image_count = len(soup.find_all(\"img\"))\n",
    "        link_count = 0\n",
    "        for link in soup.find_all('a'):\n",
    "            html_link = link.get('href')\n",
    "            if (html_link):\n",
    "                result = re.match(r'http', html_link) \n",
    "                if (result):\n",
    "                    link_count += 1\n",
    "        image_link_data.loc[i - 1] = [i, image_count, link_count]\n",
    "image_link_data"
   ]
  },
  {
   "cell_type": "code",
   "execution_count": null,
   "metadata": {},
   "outputs": [],
   "source": [
    "# Присоединяем к таблице с url значения img_count, link_count\n",
    "\n",
    "pre_train_groups = pre_train_groups.reindex(columns = pre_train_groups.columns.tolist() + ['img_count', 'link_count'])\n",
    "pre_test_groups = pre_test_groups.reindex(columns = pre_test_groups.columns.tolist() + ['img_count', 'link_count'])\n",
    "\n",
    "for i in range(len(pre_train_groups)):\n",
    "    raw = pre_train_groups.loc[i]\n",
    "    doc_id = raw.doc_id\n",
    "    pre_train_groups.img_count[i] = image_data.loc[doc_id - 1].image_count\n",
    "    pre_train_groups.link_count[i] = image_data.loc[doc_id - 1].link_count\n",
    "\n",
    "pre_train_groups.to_csv(\"new_new_pre_train_groups.tsv\", sep=\"\\t\", index = False)\n",
    "\n",
    "for i in range(len(pre_test_groups)):\n",
    "    raw = pre_test_groups.loc[i]\n",
    "    doc_id = raw.doc_id\n",
    "    pre_test_groups.img_count[i] = image_data.loc[doc_id - 1].image_count\n",
    "    pre_test_groups.link_count[i] = image_data.loc[doc_id - 1].link_count\n",
    "\n",
    "pre_test_groups.to_csv(\"new_new_pre_test_groups.tsv\", sep=\"\\t\", index = False)\n",
    "\n",
    "pre_train_groups.head()"
   ]
  }
 ],
 "metadata": {
  "kernelspec": {
   "display_name": "Python 3",
   "language": "python",
   "name": "python3"
  },
  "language_info": {
   "codemirror_mode": {
    "name": "ipython",
    "version": 3
   },
   "file_extension": ".py",
   "mimetype": "text/x-python",
   "name": "python",
   "nbconvert_exporter": "python",
   "pygments_lexer": "ipython3",
   "version": "3.8.3"
  }
 },
 "nbformat": 4,
 "nbformat_minor": 4
}
